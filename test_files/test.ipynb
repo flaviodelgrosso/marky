{
 "cells": [
  {
   "cell_type": "markdown",
   "id": "9638fb87",
   "metadata": {},
   "source": [
    "# Sample Jupyter Notebook\n",
    "\n",
    "This is a sample Jupyter notebook to test the IPYNB loader.\n",
    "\n",
    "## Introduction\n",
    "\n",
    "Jupyter notebooks are documents that combine live runnable code with narrative text (Markdown), equations (LaTeX), images, interactive visualizations and other rich output."
   ]
  },
  {
   "cell_type": "code",
   "execution_count": null,
   "id": "e4c91bf5",
   "metadata": {},
   "outputs": [],
   "source": [
    "# This is a Python code cell\n",
    "print(\"Hello, World!\")\n",
    "\n",
    "# Let's do some basic math\n",
    "a = 10\n",
    "b = 20\n",
    "result = a + b\n",
    "print(f\"The sum of {a} and {b} is {result}\")"
   ]
  },
  {
   "cell_type": "markdown",
   "id": "2e492bc4",
   "metadata": {},
   "source": [
    "## Data Analysis Example\n",
    "\n",
    "Let's create a simple data structure and analyze it:"
   ]
  },
  {
   "cell_type": "code",
   "execution_count": null,
   "id": "fb8a1436",
   "metadata": {},
   "outputs": [],
   "source": [
    "import pandas as pd\n",
    "import numpy as np\n",
    "\n",
    "# Create sample data\n",
    "data = {\n",
    "    'name': ['Alice', 'Bob', 'Charlie', 'Diana'],\n",
    "    'age': [25, 30, 35, 28],\n",
    "    'score': [95, 87, 92, 88]\n",
    "}\n",
    "\n",
    "df = pd.DataFrame(data)\n",
    "print(df)"
   ]
  },
  {
   "cell_type": "markdown",
   "id": "2b39481c",
   "metadata": {},
   "source": [
    "Raw cell example:\n",
    "This content is displayed as-is without any processing.\n",
    "It's useful for including text that shouldn't be interpreted as Markdown or code."
   ]
  },
  {
   "cell_type": "markdown",
   "id": "b57db9d6",
   "metadata": {},
   "source": [
    "## Conclusion\n",
    "\n",
    "This notebook demonstrates various cell types:\n",
    "- **Markdown cells** for documentation and explanations\n",
    "- **Code cells** for executable Python code\n",
    "- **Raw cells** for unprocessed text\n",
    "\n",
    "The IPYNB loader should convert all of these appropriately to Markdown format."
   ]
  }
 ],
 "metadata": {
  "language_info": {
   "name": "python"
  }
 },
 "nbformat": 4,
 "nbformat_minor": 5
}
